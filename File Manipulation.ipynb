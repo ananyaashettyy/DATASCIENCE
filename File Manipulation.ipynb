{
 "cells": [
  {
   "cell_type": "code",
   "execution_count": 1,
   "id": "54483f48",
   "metadata": {},
   "outputs": [
    {
     "name": "stdout",
     "output_type": "stream",
     "text": [
      "\n",
      "Filtered DataFrame (country = 'usa'):\n",
      "   name  age country  salary\n",
      "0  john   25     usa    5000\n",
      "\n",
      "Sorted DataFrame (by salary in descending order):\n",
      "   name  age    country  salary\n",
      "3  lisa   32         uk    8000\n",
      "2  sant   28      india    7000\n",
      "4   tom   27  australia    6500\n",
      "1  emma   30     canada    6000\n",
      "0  john   25        usa    5000\n",
      "\n",
      "Average Salary: 6500.0\n",
      "\n",
      "DataFrame with added experience:\n",
      "   name  age    country  salary  experience\n",
      "0  john   25        usa    5000           3\n",
      "1  emma   30     canada    6000           6\n",
      "2  sant   28      india    7000           4\n",
      "3  lisa   32         uk    8000           8\n",
      "4   tom   27  australia    6500           5\n",
      "\n",
      "DataFrame after updating Emma's salary:\n",
      "   name  age    country  salary  experience\n",
      "0  john   25        usa    5000           3\n",
      "1  emma   30     canada   65000           6\n",
      "2  sant   28      india    7000           4\n",
      "3  lisa   32         uk    8000           8\n",
      "4   tom   27  australia    6500           5\n",
      "\n",
      "DataFrame after deleting  column:\n",
      "   name  age    country  salary\n",
      "0  john   25        usa    5000\n",
      "1  emma   30     canada   65000\n",
      "2  sant   28      india    7000\n",
      "3  lisa   32         uk    8000\n",
      "4   tom   27  australia    6500\n"
     ]
    }
   ],
   "source": [
    "import pandas as pd\n",
    "\n",
    "data = {\n",
    "    'name': ['john', 'emma', 'sant', 'lisa', 'tom'],\n",
    "    'age': [25, 30, 28, 32, 27],\n",
    "    'country': ['usa', 'canada', 'india', 'uk', 'australia'],\n",
    "    'salary': [5000, 6000, 7000, 8000, 6500]\n",
    "}\n",
    "\n",
    "df = pd.DataFrame(data)\n",
    "\n",
    "filtered_df = df[df['country'] == 'usa']\n",
    "print(\"\\nFiltered DataFrame (country = 'usa'):\")\n",
    "print(filtered_df)\n",
    "\n",
    "sorted_df = df.sort_values(by='salary', ascending=False)\n",
    "print(\"\\nSorted DataFrame (by salary in descending order):\")\n",
    "print(sorted_df)\n",
    "\n",
    "average_salary = df['salary'].mean()\n",
    "print(\"\\nAverage Salary:\", average_salary)\n",
    "      \n",
    "df['experience'] = [3, 6, 4, 8, 5]\n",
    "print(\"\\nDataFrame with added experience:\")\n",
    "print(df)\n",
    "\n",
    "df.loc[df['name'] == 'emma', 'salary'] = 65000\n",
    "print(\"\\nDataFrame after updating Emma's salary:\")\n",
    "print(df)\n",
    "\n",
    "df = df.drop('experience', axis=1)\n",
    "print(\"\\nDataFrame after deleting  column:\")\n",
    "print(df)\n"
   ]
  },
  {
   "cell_type": "code",
   "execution_count": null,
   "id": "ce385b79",
   "metadata": {},
   "outputs": [],
   "source": []
  }
 ],
 "metadata": {
  "kernelspec": {
   "display_name": "Python 3 (ipykernel)",
   "language": "python",
   "name": "python3"
  },
  "language_info": {
   "codemirror_mode": {
    "name": "ipython",
    "version": 3
   },
   "file_extension": ".py",
   "mimetype": "text/x-python",
   "name": "python",
   "nbconvert_exporter": "python",
   "pygments_lexer": "ipython3",
   "version": "3.11.3"
  }
 },
 "nbformat": 4,
 "nbformat_minor": 5
}
