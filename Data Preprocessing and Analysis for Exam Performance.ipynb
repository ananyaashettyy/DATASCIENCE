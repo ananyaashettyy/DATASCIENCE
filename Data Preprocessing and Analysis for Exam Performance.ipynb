{
 "cells": [
  {
   "cell_type": "code",
   "execution_count": 12,
   "id": "ec5141d0",
   "metadata": {},
   "outputs": [
    {
     "name": "stdout",
     "output_type": "stream",
     "text": [
      "[3]\n",
      "[4, 2]\n"
     ]
    }
   ],
   "source": [
    "from typing import List\n",
    "\n",
    "def shape(tensor: list) -> List[int]:\n",
    "    sizes: List[int] = []\n",
    "    while isinstance(tensor, list):\n",
    "        sizes.append(len(tensor))\n",
    "        tensor = tensor[0]\n",
    "    return sizes\n",
    "\n",
    "x = shape([1, 2, 3])\n",
    "print(x) \n",
    "\n",
    "x = shape([[1, 2], [3, 4], [5, 6], [7, 8]])\n",
    "print(x)  \n"
   ]
  },
  {
   "cell_type": "code",
   "execution_count": 19,
   "id": "2aea89e8",
   "metadata": {},
   "outputs": [
    {
     "name": "stdout",
     "output_type": "stream",
     "text": [
      "First 5 rows of cleaned and processed dataset:\n",
      "   gender  study_time  math_score  reading_score  writing_score  passed_exam\n",
      "0       1    0.000000    0.904188       1.453906       0.456318            1\n",
      "1       0   -0.790569    0.000000       0.657245       1.470358            1\n",
      "2       1    0.790569   -0.572038      -1.135242      -1.064742            0\n",
      "3       0    1.976424    0.461321      -0.338581      -0.219709            1\n",
      "4       1   -1.185854    1.789924       0.458080       0.625325            1\n",
      "Training set shape: (8, 5)\n",
      "Testing set shape: (2, 5)\n"
     ]
    }
   ],
   "source": [
    "import pandas as pd\n",
    "import numpy as np\n",
    "from sklearn.model_selection import train_test_split\n",
    "from sklearn.preprocessing import StandardScaler, LabelEncoder\n",
    "\n",
    "data = {\n",
    "    'gender': ['male', 'female', 'male', 'female', 'male', 'male', 'female', 'female', 'male', 'female'],\n",
    "    'study_time': [10, 8, 12, 15, 7, 12, 6, 10, 9, 11],\n",
    "    'math_score': [88, 92, 78, 85, 94, 75, 70, 88, 90, 77],\n",
    "    'reading_score': [93, 89, 80, 84, 88, 85, 76, 89, 91, 82],\n",
    "    'writing_score': [84, 90, 75, 80, 85, 78, 71, 86, 88, 76],\n",
    "    'passed_exam': [1, 1, 0, 1, 1, 1, 0, 0, 1, 0]\n",
    "}\n",
    "\n",
    "df = pd.DataFrame(data)\n",
    "\n",
    "np.random.seed(42)\n",
    "\n",
    "indices = np.random.choice(df.index, size=2, replace=False)\n",
    "df.loc[indices, 'math_score'] = np.nan\n",
    "\n",
    "df_cleaned = df.dropna()\n",
    "\n",
    "df_cleaned = df.fillna(df.mean(numeric_only=True))\n",
    "\n",
    "label_encoder = LabelEncoder()\n",
    "df_cleaned['gender'] = label_encoder.fit_transform(df_cleaned['gender'])\n",
    "\n",
    "scaler = StandardScaler()\n",
    "numerical_columns = ['study_time', 'math_score', 'reading_score', 'writing_score']\n",
    "df_cleaned[numerical_columns] = scaler.fit_transform(df_cleaned[numerical_columns])\n",
    "\n",
    "X = df_cleaned.drop('passed_exam', axis=1)\n",
    "y = df_cleaned['passed_exam']\n",
    "X_train, X_test, y_train, y_test = train_test_split(X, y, test_size=0.2, random_state=42)\n",
    "\n",
    "print(\"First 5 rows of cleaned and processed dataset:\")\n",
    "print(df_cleaned.head())\n",
    "print(\"Training set shape:\", X_train.shape)\n",
    "print(\"Testing set shape:\", X_test.shape)\n"
   ]
  },
  {
   "cell_type": "code",
   "execution_count": null,
   "id": "45e16911",
   "metadata": {},
   "outputs": [],
   "source": []
  },
  {
   "cell_type": "code",
   "execution_count": null,
   "id": "978dba44",
   "metadata": {},
   "outputs": [],
   "source": []
  },
  {
   "cell_type": "code",
   "execution_count": null,
   "id": "887e9dd2",
   "metadata": {},
   "outputs": [],
   "source": []
  }
 ],
 "metadata": {
  "kernelspec": {
   "display_name": "Python 3 (ipykernel)",
   "language": "python",
   "name": "python3"
  },
  "language_info": {
   "codemirror_mode": {
    "name": "ipython",
    "version": 3
   },
   "file_extension": ".py",
   "mimetype": "text/x-python",
   "name": "python",
   "nbconvert_exporter": "python",
   "pygments_lexer": "ipython3",
   "version": "3.11.3"
  }
 },
 "nbformat": 4,
 "nbformat_minor": 5
}
