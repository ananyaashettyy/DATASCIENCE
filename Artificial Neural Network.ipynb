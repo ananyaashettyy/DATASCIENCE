{
 "cells": [
  {
   "cell_type": "code",
   "execution_count": 1,
   "id": "de6e6e65",
   "metadata": {},
   "outputs": [
    {
     "name": "stdout",
     "output_type": "stream",
     "text": [
      "input:\n",
      "[[0.66666667 1.        ]\n",
      " [0.33333333 1.        ]\n",
      " [1.         0.66666667]]\n",
      "actual:\n",
      "[[0.92]\n",
      " [0.86]\n",
      " [0.89]]\n",
      "predicted:\n",
      " [[0.89230592]\n",
      " [0.88719534]\n",
      " [0.89030287]]\n"
     ]
    }
   ],
   "source": [
    "import numpy as np\n",
    "\n",
    "x = np.array(([2, 9], [1, 9], [3, 6]), dtype=float)\n",
    "y = np.array(([92], [86], [89]), dtype=float)\n",
    "\n",
    "x = x / np.amax(x, axis=0)\n",
    "y = y / 100\n",
    "\n",
    "def sigmoid(x):\n",
    "    return 1 / (1 + np.exp(-x))\n",
    "\n",
    "def derivation_sigmoid(x):\n",
    "    return x * (1 - x)\n",
    "\n",
    "epoch = 5000\n",
    "lr = 0.1\n",
    "inputlayer_neurons = 2\n",
    "hiddenlayer_neurons = 3\n",
    "outputlayer_neurons = 1\n",
    "\n",
    "wb = np.random.uniform(size=(inputlayer_neurons, hiddenlayer_neurons))\n",
    "bb = np.random.uniform(size=(1, hiddenlayer_neurons))\n",
    "wout = np.random.uniform(size=(hiddenlayer_neurons, outputlayer_neurons))\n",
    "bout = np.random.uniform(size=(1, outputlayer_neurons))\n",
    "\n",
    "for i in range(epoch):\n",
    "    hinp1 = np.dot(x, wb) + bb\n",
    "    hlayer_act = sigmoid(hinp1)\n",
    "    outinp1 = np.dot(hlayer_act, wout) + bout\n",
    "    output = sigmoid(outinp1)\n",
    "    \n",
    "    E = y - output\n",
    "    outputgrad = derivation_sigmoid(output)\n",
    "    d_output = E * outputgrad\n",
    "    EH = d_output.dot(wout.T)\n",
    "    hiddengrad = derivation_sigmoid(hlayer_act)\n",
    "    d_hiddenlayer = EH * hiddengrad\n",
    "    \n",
    "    wout += hlayer_act.T.dot(d_output) * lr\n",
    "    wb += x.T.dot(d_hiddenlayer) * lr\n",
    "\n",
    "print(\"input:\\n\" + str(x))\n",
    "print(\"actual:\\n\" + str(y))\n",
    "print(\"predicted:\\n\", output)\n"
   ]
  },
  {
   "cell_type": "code",
   "execution_count": null,
   "id": "f1ba996c",
   "metadata": {},
   "outputs": [],
   "source": []
  }
 ],
 "metadata": {
  "kernelspec": {
   "display_name": "Python 3 (ipykernel)",
   "language": "python",
   "name": "python3"
  },
  "language_info": {
   "codemirror_mode": {
    "name": "ipython",
    "version": 3
   },
   "file_extension": ".py",
   "mimetype": "text/x-python",
   "name": "python",
   "nbconvert_exporter": "python",
   "pygments_lexer": "ipython3",
   "version": "3.11.3"
  }
 },
 "nbformat": 4,
 "nbformat_minor": 5
}
