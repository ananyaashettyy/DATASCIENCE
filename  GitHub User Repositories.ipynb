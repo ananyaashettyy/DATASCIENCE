{
 "cells": [
  {
   "cell_type": "code",
   "execution_count": 1,
   "id": "5f0564ce",
   "metadata": {},
   "outputs": [
    {
     "name": "stdout",
     "output_type": "stream",
     "text": [
      "Repository 'boysenberry-repo-1' was created on 2018-05-10T17:51:29Z.\n",
      "Repository: boysenberry-repo-1; Language: None\n",
      "Repository: git-consortium; Language: None\n",
      "Repository: hello-worId; Language: None\n",
      "Repository: Hello-World; Language: None\n",
      "Repository: linguist; Language: Ruby\n"
     ]
    }
   ],
   "source": [
    "import requests\n",
    "\n",
    "def get_repository_info(username):\n",
    "    url = f\"https://api.github.com/users/{username}/repos\"\n",
    "    response = requests.get(url)\n",
    "\n",
    "    if response.status_code == 200:\n",
    "        repos = response.json()\n",
    "        if repos:\n",
    "            \n",
    "            first_repo = repos[0]\n",
    "            created_at = first_repo['created_at']\n",
    "            print(f\"Repository '{first_repo['name']}' was created on {created_at}.\")\n",
    "\n",
    "            \n",
    "            for repo in repos[:5]:\n",
    "                repo_name = repo['name']\n",
    "                language = repo.get('language', 'Not specified')\n",
    "                print(f'Repository: {repo_name}; Language: {language}')\n",
    "        else:\n",
    "            print(\"No repositories found for this user.\")\n",
    "    else:\n",
    "        print(f\"Error: Unable to fetch repositories for user '{username}'. Status code: {response.status_code}\")\n",
    "\n",
    "get_repository_info('octocat')\n"
   ]
  },
  {
   "cell_type": "code",
   "execution_count": null,
   "id": "6065f875",
   "metadata": {},
   "outputs": [],
   "source": []
  }
 ],
 "metadata": {
  "kernelspec": {
   "display_name": "Python 3 (ipykernel)",
   "language": "python",
   "name": "python3"
  },
  "language_info": {
   "codemirror_mode": {
    "name": "ipython",
    "version": 3
   },
   "file_extension": ".py",
   "mimetype": "text/x-python",
   "name": "python",
   "nbconvert_exporter": "python",
   "pygments_lexer": "ipython3",
   "version": "3.11.3"
  }
 },
 "nbformat": 4,
 "nbformat_minor": 5
}
